{
 "cells": [
  {
   "cell_type": "markdown",
   "metadata": {},
   "source": []
  },
  {
   "cell_type": "code",
   "execution_count": 4,
   "metadata": {},
   "outputs": [
    {
     "name": "stdout",
     "output_type": "stream",
     "text": [
      "         client_id      datetime  code  type          sum source_id  \\\n",
      "0         96372458  421 06:33:15  6011  2010   -561478.94    256572   \n",
      "1         96372458   68 02:04:11  6011  2010    -426724.0       NaN   \n",
      "2         96372458  433 06:45:32  6011  2010   -112295.79    256566   \n",
      "3         96372458  314 01:18:44  6011  2010  -1122957.89    256566   \n",
      "4         96372458  350 01:09:16  6011  2010  -1100498.73    256566   \n",
      "5         96372458  445 07:35:23  6011  2010   -494101.47    256566   \n",
      "6         96372458  396 07:48:53  6011  2010   -101066.21    256566   \n",
      "7         96372458  430 06:29:50  6011  2010   -224591.58    256566   \n",
      "8         96372458   25 06:58:51  6011  2010    -78607.05       NaN   \n",
      "9         96372458  421 01:56:12  6011  2010   -314428.21    581606   \n",
      "10        96372458  278 04:04:05  6011  2010   -179673.26    581606   \n",
      "11        96372458  192 01:14:36  6011  2010    -583938.1       NaN   \n",
      "12        96372458  168 02:05:52  6011  2010  -1122957.89       NaN   \n",
      "13        96372458   67 07:16:07  6011  2010   -336887.37       NaN   \n",
      "14        96372458    7 04:08:20  6011  2010    -426724.0       NaN   \n",
      "15        96372458  194 06:30:58  6011  2010   -134754.95       NaN   \n",
      "16        96372458  151 06:10:05  6011  2010   -224591.58       NaN   \n",
      "17        96372458  381 06:16:54  6011  2010   -112295.79    256566   \n",
      "18        96372458  219 06:26:00  6011  2010    -44918.32    798323   \n",
      "19        96372458  140 07:36:59  6011  2010   -359346.52       NaN   \n",
      "20        96372458  235 01:06:31  6011  2010   -314428.21    256566   \n",
      "21        96372458  250 01:06:43  6011  2010    -56147.89    256566   \n",
      "22        96372458  304 03:07:36  6011  2010   -774840.94    256566   \n",
      "23        96372458  322 06:04:01  6011  2010   -449183.15     58301   \n",
      "24        96372458  220 03:43:25  6011  2010   -112295.79    256572   \n",
      "25        96372458  249 01:06:18  6011  2010    -22459.16    256566   \n",
      "26        96372458   24 09:10:07  6011  2010  -1122957.89       NaN   \n",
      "27        96372458   77 07:09:36  6011  2010  -1122957.89       NaN   \n",
      "28        96372458  409 06:29:49  6011  2010   -404264.84    256566   \n",
      "29        96372458  392 02:38:02  6011  2010   -786070.52    256566   \n",
      "...            ...           ...   ...   ...          ...       ...   \n",
      "4101693   46377895   31 07:00:17  6010  2020   -637840.08       NaN   \n",
      "4101694   46377895  244 08:27:11  6010  2020  -1259262.51    153390   \n",
      "4101695   46377895   60 08:27:52  6010  2020    -156225.9       NaN   \n",
      "4101696   46377895  183 09:01:43  6010  2020   -411002.59       NaN   \n",
      "4101697   46377895  150 07:31:27  6010  2020   -628856.42       NaN   \n",
      "4101698   46377895  365 02:10:18  6010  2020   -376343.61    292248   \n",
      "4101699   46377895  456 02:05:04  6010  2020   -429239.42    153429   \n",
      "4101700   46377895  372 02:24:36  6010  2020     -29309.2    153429   \n",
      "4101701   46377895  395 09:42:42  6010  2020   -376366.07    153426   \n",
      "4101702   46377895  124 07:11:02  6010  2020   -517863.26       NaN   \n",
      "4101703   38490599  277 08:28:02  6010  2020  -1445695.98    368889   \n",
      "4101704   38490599    4 08:40:49  6010  2020   -1728389.4       NaN   \n",
      "4101705   38490599   53 08:13:41  6010  2020   -606397.26       NaN   \n",
      "4101706   38490599  118 07:01:11  6010  2020   -698479.81       NaN   \n",
      "4101707   38490599  369 07:08:39  6010  2020  -2164725.92    368939   \n",
      "4101708   38490599  430 07:29:29  6010  2020  -1519362.02    368889   \n",
      "4101709   38490599   33 08:39:28  6010  2020  -1617059.36       NaN   \n",
      "4101710   38490599  188 07:44:25  6010  2020   -2057505.9       NaN   \n",
      "4101711   38490599   60 07:55:24  6010  2020  -2124636.32       NaN   \n",
      "4101712   38490599   66 08:39:55  6010  2020  -2408362.86       NaN   \n",
      "4101713   38490599  337 00:44:12  6010  2020  -1239071.73    368889   \n",
      "4101714   38490599  147 07:57:09  6010  2020   -936209.99       NaN   \n",
      "4101715   38490599  278 07:03:15  6010  2020   -262884.44    368883   \n",
      "4101716   38490599  217 05:51:48  6010  2020  -2169487.26    368881   \n",
      "4101717   38490599  307 06:46:58  6010  2020  -1522730.89    368887   \n",
      "4101718   38490599  129 07:34:04  6010  2020    -58663.32       NaN   \n",
      "4101719   38490599  140 08:07:38  6010  2020  -3302978.49       NaN   \n",
      "4101720   38490599  246 00:33:18  6010  2020  -1502966.83    368128   \n",
      "4101721   38490599  340 03:14:53  6010  2020   -333069.31    368889   \n",
      "4101722   38490599  397 07:00:26  6010  2020  -1891510.26    368889   \n",
      "\n",
      "                              type_description  \\\n",
      "0        Выдача наличных в АТМ Сбербанк России   \n",
      "1        Выдача наличных в АТМ Сбербанк России   \n",
      "2        Выдача наличных в АТМ Сбербанк России   \n",
      "3        Выдача наличных в АТМ Сбербанк России   \n",
      "4        Выдача наличных в АТМ Сбербанк России   \n",
      "5        Выдача наличных в АТМ Сбербанк России   \n",
      "6        Выдача наличных в АТМ Сбербанк России   \n",
      "7        Выдача наличных в АТМ Сбербанк России   \n",
      "8        Выдача наличных в АТМ Сбербанк России   \n",
      "9        Выдача наличных в АТМ Сбербанк России   \n",
      "10       Выдача наличных в АТМ Сбербанк России   \n",
      "11       Выдача наличных в АТМ Сбербанк России   \n",
      "12       Выдача наличных в АТМ Сбербанк России   \n",
      "13       Выдача наличных в АТМ Сбербанк России   \n",
      "14       Выдача наличных в АТМ Сбербанк России   \n",
      "15       Выдача наличных в АТМ Сбербанк России   \n",
      "16       Выдача наличных в АТМ Сбербанк России   \n",
      "17       Выдача наличных в АТМ Сбербанк России   \n",
      "18       Выдача наличных в АТМ Сбербанк России   \n",
      "19       Выдача наличных в АТМ Сбербанк России   \n",
      "20       Выдача наличных в АТМ Сбербанк России   \n",
      "21       Выдача наличных в АТМ Сбербанк России   \n",
      "22       Выдача наличных в АТМ Сбербанк России   \n",
      "23       Выдача наличных в АТМ Сбербанк России   \n",
      "24       Выдача наличных в АТМ Сбербанк России   \n",
      "25       Выдача наличных в АТМ Сбербанк России   \n",
      "26       Выдача наличных в АТМ Сбербанк России   \n",
      "27       Выдача наличных в АТМ Сбербанк России   \n",
      "28       Выдача наличных в АТМ Сбербанк России   \n",
      "29       Выдача наличных в АТМ Сбербанк России   \n",
      "...                                        ...   \n",
      "4101693    Выдача наличных через POS Сбербанка   \n",
      "4101694    Выдача наличных через POS Сбербанка   \n",
      "4101695    Выдача наличных через POS Сбербанка   \n",
      "4101696    Выдача наличных через POS Сбербанка   \n",
      "4101697    Выдача наличных через POS Сбербанка   \n",
      "4101698    Выдача наличных через POS Сбербанка   \n",
      "4101699    Выдача наличных через POS Сбербанка   \n",
      "4101700    Выдача наличных через POS Сбербанка   \n",
      "4101701    Выдача наличных через POS Сбербанка   \n",
      "4101702    Выдача наличных через POS Сбербанка   \n",
      "4101703    Выдача наличных через POS Сбербанка   \n",
      "4101704    Выдача наличных через POS Сбербанка   \n",
      "4101705    Выдача наличных через POS Сбербанка   \n",
      "4101706    Выдача наличных через POS Сбербанка   \n",
      "4101707    Выдача наличных через POS Сбербанка   \n",
      "4101708    Выдача наличных через POS Сбербанка   \n",
      "4101709    Выдача наличных через POS Сбербанка   \n",
      "4101710    Выдача наличных через POS Сбербанка   \n",
      "4101711    Выдача наличных через POS Сбербанка   \n",
      "4101712    Выдача наличных через POS Сбербанка   \n",
      "4101713    Выдача наличных через POS Сбербанка   \n",
      "4101714    Выдача наличных через POS Сбербанка   \n",
      "4101715    Выдача наличных через POS Сбербанка   \n",
      "4101716    Выдача наличных через POS Сбербанка   \n",
      "4101717    Выдача наличных через POS Сбербанка   \n",
      "4101718    Выдача наличных через POS Сбербанка   \n",
      "4101719    Выдача наличных через POS Сбербанка   \n",
      "4101720    Выдача наличных через POS Сбербанка   \n",
      "4101721    Выдача наличных через POS Сбербанка   \n",
      "4101722    Выдача наличных через POS Сбербанка   \n",
      "\n",
      "                                          code_description  status  \n",
      "0        Финансовые институты — снятие наличности автом...       0  \n",
      "1        Финансовые институты — снятие наличности автом...       0  \n",
      "2        Финансовые институты — снятие наличности автом...       0  \n",
      "3        Финансовые институты — снятие наличности автом...       0  \n",
      "4        Финансовые институты — снятие наличности автом...       0  \n",
      "5        Финансовые институты — снятие наличности автом...       0  \n",
      "6        Финансовые институты — снятие наличности автом...       0  \n",
      "7        Финансовые институты — снятие наличности автом...       0  \n",
      "8        Финансовые институты — снятие наличности автом...       0  \n",
      "9        Финансовые институты — снятие наличности автом...       0  \n",
      "10       Финансовые институты — снятие наличности автом...       0  \n",
      "11       Финансовые институты — снятие наличности автом...       0  \n",
      "12       Финансовые институты — снятие наличности автом...       0  \n",
      "13       Финансовые институты — снятие наличности автом...       0  \n",
      "14       Финансовые институты — снятие наличности автом...       0  \n",
      "15       Финансовые институты — снятие наличности автом...       0  \n",
      "16       Финансовые институты — снятие наличности автом...       0  \n",
      "17       Финансовые институты — снятие наличности автом...       0  \n",
      "18       Финансовые институты — снятие наличности автом...       0  \n",
      "19       Финансовые институты — снятие наличности автом...       0  \n",
      "20       Финансовые институты — снятие наличности автом...       0  \n",
      "21       Финансовые институты — снятие наличности автом...       0  \n",
      "22       Финансовые институты — снятие наличности автом...       0  \n",
      "23       Финансовые институты — снятие наличности автом...       0  \n",
      "24       Финансовые институты — снятие наличности автом...       0  \n",
      "25       Финансовые институты — снятие наличности автом...       0  \n",
      "26       Финансовые институты — снятие наличности автом...       0  \n",
      "27       Финансовые институты — снятие наличности автом...       0  \n",
      "28       Финансовые институты — снятие наличности автом...       0  \n",
      "29       Финансовые институты — снятие наличности автом...       0  \n",
      "...                                                    ...     ...  \n",
      "4101693   Финансовые институты — снятие наличности вручную       0  \n",
      "4101694   Финансовые институты — снятие наличности вручную       0  \n",
      "4101695   Финансовые институты — снятие наличности вручную       0  \n",
      "4101696   Финансовые институты — снятие наличности вручную       0  \n",
      "4101697   Финансовые институты — снятие наличности вручную       0  \n",
      "4101698   Финансовые институты — снятие наличности вручную       0  \n",
      "4101699   Финансовые институты — снятие наличности вручную       0  \n",
      "4101700   Финансовые институты — снятие наличности вручную       0  \n",
      "4101701   Финансовые институты — снятие наличности вручную       0  \n",
      "4101702   Финансовые институты — снятие наличности вручную       0  \n",
      "4101703   Финансовые институты — снятие наличности вручную       1  \n",
      "4101704   Финансовые институты — снятие наличности вручную       1  \n",
      "4101705   Финансовые институты — снятие наличности вручную       1  \n",
      "4101706   Финансовые институты — снятие наличности вручную       1  \n",
      "4101707   Финансовые институты — снятие наличности вручную       1  \n",
      "4101708   Финансовые институты — снятие наличности вручную       1  \n",
      "4101709   Финансовые институты — снятие наличности вручную       1  \n",
      "4101710   Финансовые институты — снятие наличности вручную       1  \n",
      "4101711   Финансовые институты — снятие наличности вручную       1  \n",
      "4101712   Финансовые институты — снятие наличности вручную       1  \n",
      "4101713   Финансовые институты — снятие наличности вручную       1  \n",
      "4101714   Финансовые институты — снятие наличности вручную       1  \n",
      "4101715   Финансовые институты — снятие наличности вручную       1  \n",
      "4101716   Финансовые институты — снятие наличности вручную       1  \n",
      "4101717   Финансовые институты — снятие наличности вручную       1  \n",
      "4101718   Финансовые институты — снятие наличности вручную       1  \n",
      "4101719   Финансовые институты — снятие наличности вручную       1  \n",
      "4101720   Финансовые институты — снятие наличности вручную       1  \n",
      "4101721   Финансовые институты — снятие наличности вручную       1  \n",
      "4101722   Финансовые институты — снятие наличности вручную       1  \n",
      "\n"
     ]
    },
    {
     "name": "stdout",
     "output_type": "stream",
     "text": [
      "[4101723 rows x 9 columns]\n"
     ]
    }
   ],
   "source": [
    "import pandas as pd\n",
    "dfOperations=pd.read_csv(\"C:/Users/MakpalPC/Machine Learning/lab4/1 - operations.csv\" , sep=',', decimal=',')\n",
    "dfDataset=pd.read_csv(\"C:/Users/MakpalPC/Machine Learning/lab4/2 - dataset.csv\" , sep=',', decimal=',')\n",
    "dfTypes=pd.read_csv(\"C:/Users/MakpalPC/Machine Learning/lab4/3 - types.csv\" , sep=';', decimal=',')\n",
    "dfCodes=pd.read_csv(\"C:/Users/MakpalPC/Machine Learning/lab4/4 - codes.csv\",  sep=';')\n",
    "\n",
    "\n",
    "opTypes = pd.merge(dfOperations, dfTypes, on='type')\n",
    "opTypesCodes = pd.merge(opTypes, dfCodes, on = 'code')\n",
    "finalTable = pd.merge(opTypesCodes, dfDataset, on='client_id')\n",
    "print(finalTable)"
   ]
  },
  {
   "cell_type": "code",
   "execution_count": 18,
   "metadata": {},
   "outputs": [
    {
     "name": "stdout",
     "output_type": "stream",
     "text": [
      "          client_id          code          type        status\n",
      "count  4.101723e+06  4.101723e+06  4.101723e+06  4.101723e+06\n",
      "mean   5.089502e+07  5.592849e+03  2.499337e+03  4.851022e-01\n",
      "std    2.865764e+07  6.032087e+02  2.259388e+03  4.997781e-01\n",
      "min    2.289900e+04  7.420000e+02  1.000000e+03  0.000000e+00\n",
      "25%    2.599296e+07  5.211000e+03  1.030000e+03  0.000000e+00\n",
      "50%    5.243300e+07  5.641000e+03  1.110000e+03  0.000000e+00\n",
      "75%    7.499280e+07  6.010000e+03  2.370000e+03  1.000000e+00\n",
      "max    9.999968e+07  9.402000e+03  8.146000e+03  1.000000e+00\n"
     ]
    }
   ],
   "source": [
    "print(finalTable.describe())"
   ]
  },
  {
   "cell_type": "code",
   "execution_count": null,
   "metadata": {},
   "outputs": [],
   "source": []
  },
  {
   "cell_type": "code",
   "execution_count": null,
   "metadata": {
    "collapsed": true
   },
   "outputs": [],
   "source": [
    "\n",
    "    "
   ]
  },
  {
   "cell_type": "code",
   "execution_count": 16,
   "metadata": {},
   "outputs": [
    {
     "data": {
      "image/png": "[encoded data removed]",
      "text/plain": [
       "<matplotlib.figure.Figure at 0x42f26559b0>"
      ]
     },
     "metadata": {},
     "output_type": "display_data"
    }
   ],
   "source": [
    "import matplotlib.pyplot as plt\n",
    "plt.subplot(141),finalTable['client_id'].hist(bins=50,color = 'red')\n",
    "plt.title('Client_id'), plt.xticks([]), plt.yticks([])\n",
    "plt.subplot(142),finalTable['type'].hist(bins=50,color = 'yellow')\n",
    "plt.title('Type'), plt.xticks([]), plt.yticks([])\n",
    "plt.subplot(143),finalTable['code'].hist(bins=50,color = 'green')\n",
    "plt.title('Code'), plt.xticks([]), plt.yticks([])\n",
    "plt.subplot(144),finalTable['status'].hist(bins=50,color = 'blue')\n",
    "plt.title('Status'), plt.xticks([]), plt.yticks([])\n",
    "plt.show()         \n"
   ]
  },
  {
   "cell_type": "code",
   "execution_count": null,
   "metadata": {
    "collapsed": true
   },
   "outputs": [],
   "source": [
    "print(finalTable['client_id'].describe())\n",
    "print(finalTable['type'].describe())\n",
    "print(finalTable['code'].describe())\n",
    "print(finalTable['status'].describe())"
   ]
  }
 ],
 "metadata": {
  "anaconda-cloud": {},
  "kernelspec": {
   "display_name": "Python 3",
   "language": "python",
   "name": "python3"
  },
  "language_info": {
   "codemirror_mode": {
    "name": "ipython",
    "version": 3
   },
   "file_extension": ".py",
   "mimetype": "text/x-python",
   "name": "python",
   "nbconvert_exporter": "python",
   "pygments_lexer": "ipython3",
   "version": "3.6.1"
  },
  "widgets": {
   "state": {
    "c40306d88fc044479dde57e5d2ab9aa5": {
     "views": [
      {
       "cell_index": 4
      }
     ]
    }
   },
   "version": "1.2.0"
  }
 },
 "nbformat": 4,
 "nbformat_minor": 2
}
