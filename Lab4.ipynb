{
 "cells": [
  {
   "cell_type": "code",
   "execution_count": 1,
   "metadata": {
    "collapsed": true
   },
   "outputs": [],
   "source": [
    "import numpy as np\n",
    "from pyDatalog import pyDatalog\n",
    "from pyDatalog import pyEngine"
   ]
  },
  {
   "cell_type": "code",
   "execution_count": 2,
   "metadata": {
    "collapsed": true
   },
   "outputs": [],
   "source": [
    "def Product(x, y):\n",
    "    z = []\n",
    "    for x1 in x:\n",
    "        for y1 in y.T:\n",
    "            z.append(max(np.multiply(x1, y1)))\n",
    "    return np.array(z).reshape((x.shape[0], y.shape[1]))"
   ]
  },
  {
   "cell_type": "code",
   "execution_count": 5,
   "metadata": {},
   "outputs": [
    {
     "name": "stdout",
     "output_type": "stream",
     "text": [
      "[[ 0.   0.2  0.7  0.8]\n",
      " [ 0.   0.3  0.7  0.5]\n",
      " [ 0.5  0.5  0.5  0.5]\n",
      " [ 0.7  0.4  0.4  0.6]\n",
      " [ 0.7  0.7  0.3  0.3]]\n",
      "[[ 0.   0.3  0.3  0.7  0. ]\n",
      " [ 0.3  0.1  0.7  0.3  0.8]\n",
      " [ 0.8  0.6  0.5  0.4  0.3]\n",
      " [ 0.8  0.8  0.5  0.6  0.2]]\n"
     ]
    }
   ],
   "source": [
    "kl = np.array([[0, 0.2, 0.7, 0.8], [0, 0.3, 0.7, 0.5], [0.5, 0.5, 0.5, 0.5], [0.7, 0.4, 0.4, 0.6], [0.7, 0.7, 0.3, 0.3]])\n",
    "vl = np.array([[0, 0.3, 0.3, 0.7, 0], [0.3, 0.1, 0.7, 0.3, 0.8], [0.8, 0.6, 0.5, 0.4, 0.3], [0.8, 0.8, 0.5, 0.6, 0.2]])\n",
    "print(kl)\n",
    "print(vl)"
   ]
  },
  {
   "cell_type": "code",
   "execution_count": 6,
   "metadata": {
    "scrolled": true
   },
   "outputs": [
    {
     "name": "stdout",
     "output_type": "stream",
     "text": [
      "[[ 0.64  0.64  0.4   0.48  0.21]\n",
      " [ 0.56  0.42  0.35  0.3   0.24]\n",
      " [ 0.4   0.4   0.35  0.35  0.4 ]\n",
      " [ 0.48  0.48  0.3   0.49  0.32]\n",
      " [ 0.24  0.24  0.49  0.49  0.56]]\n"
     ]
    }
   ],
   "source": [
    "print(Product(kl, vl))"
   ]
  },
  {
   "cell_type": "code",
   "execution_count": 1,
   "metadata": {},
   "outputs": [
    {
     "name": "stdout",
     "output_type": "stream",
     "text": [
      "         Eff_of_mag  Eff_of_phys  Price  Vos_mag  Vos_phys\n",
      "skelet          0.0          0.2   85.0      0.7       0.8\n",
      "zomby           0.0          0.3   90.0      0.7       0.5\n",
      "vampire         0.5          0.5  200.0      0.5       0.5\n",
      "vedma           0.7          0.4  290.0      0.4       0.6\n",
      "dragon          0.7          0.7  490.0      0.3       0.3\n",
      "       Eff_of_mag  Eff_of_phys  Price  Vos_mag  Vos_phys\n",
      "krest         0.0          0.3   90.0      0.8       0.8\n",
      "elf           0.3          0.1  100.0      0.6       0.8\n",
      "rycar         0.3          0.7  190.0      0.5       0.5\n",
      "fei           0.7          0.3  200.0      0.4       0.6\n",
      "titan         0.0          0.8  390.0      0.3       0.2\n"
     ]
    }
   ],
   "source": [
    "import pandas as pd\n",
    "\n",
    "kolduny = pd.DataFrame({'Eff_of_mag' : [0., 0., 0.5, 0.7, 0.7],\n",
    "                        'Eff_of_phys' : [0.2, 0.3, 0.5, 0.4, 0.7],\n",
    "                        'Vos_mag' : [0.7, 0.7, 0.5, 0.4, 0.3],\n",
    "                        'Vos_phys' : [0.8, 0.5, 0.5, 0.6, 0.3],\n",
    "                        'Price' : [85., 90., 200., 290., 490.]},\n",
    "                       index = ('skelet', 'zomby', 'vampire', 'vedma', 'dragon'))\n",
    "print (kolduny)\n",
    "\n",
    "volshebniki = pd.DataFrame({'Eff_of_mag' : [0., 0.3, 0.3, 0.7, 0.],\n",
    "                        'Eff_of_phys' : [0.3, 0.1, 0.7, 0.3, 0.8],\n",
    "                        'Vos_mag' : [0.8, 0.6, 0.5, 0.4, 0.3],\n",
    "                        'Vos_phys' : [0.8, 0.8, 0.5, 0.6, 0.2],\n",
    "                        'Price' : [90., 100., 190., 200., 390.]},\n",
    "                       index = ('krest', 'elf', 'rycar', 'fei', 'titan'))\n",
    "print (volshebniki)"
   ]
  },
  {
   "cell_type": "code",
   "execution_count": null,
   "metadata": {
    "collapsed": true
   },
   "outputs": [],
   "source": []
  }
 ],
 "metadata": {
  "kernelspec": {
   "display_name": "Python 3",
   "language": "python",
   "name": "python3"
  },
  "language_info": {
   "codemirror_mode": {
    "name": "ipython",
    "version": 3
   },
   "file_extension": ".py",
   "mimetype": "text/x-python",
   "name": "python",
   "nbconvert_exporter": "python",
   "pygments_lexer": "ipython3",
   "version": "3.6.1"
  }
 },
 "nbformat": 4,
 "nbformat_minor": 2
}
